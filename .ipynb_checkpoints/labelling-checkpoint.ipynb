{
 "cells": [
  {
   "cell_type": "markdown",
   "id": "fb6b3ca8-7ad9-4ac5-b0de-362d7ffa6b43",
   "metadata": {},
   "source": [
    "# Import Library"
   ]
  },
  {
   "cell_type": "code",
   "execution_count": 7,
   "id": "0ee7f6b6-762b-4e94-af7c-1d2409793145",
   "metadata": {},
   "outputs": [],
   "source": [
    "import pandas as pd\n",
    "from wordcloud import WordCloud\n",
    "import matplotlib.pyplot as plt\n",
    "from sklearn.model_selection import train_test_split"
   ]
  },
  {
   "cell_type": "markdown",
   "id": "45d8f469-0167-41a6-ad59-5f5187a954ed",
   "metadata": {},
   "source": [
    "# Open dataset"
   ]
  },
  {
   "cell_type": "code",
   "execution_count": 2,
   "id": "a9e08525-effc-46e0-b75e-e9d3f3eea1e2",
   "metadata": {},
   "outputs": [
    {
     "data": {
      "text/html": [
       "<div>\n",
       "<style scoped>\n",
       "    .dataframe tbody tr th:only-of-type {\n",
       "        vertical-align: middle;\n",
       "    }\n",
       "\n",
       "    .dataframe tbody tr th {\n",
       "        vertical-align: top;\n",
       "    }\n",
       "\n",
       "    .dataframe thead th {\n",
       "        text-align: right;\n",
       "    }\n",
       "</style>\n",
       "<table border=\"1\" class=\"dataframe\">\n",
       "  <thead>\n",
       "    <tr style=\"text-align: right;\">\n",
       "      <th></th>\n",
       "      <th>text_clean</th>\n",
       "      <th>sentiment</th>\n",
       "    </tr>\n",
       "  </thead>\n",
       "  <tbody>\n",
       "    <tr>\n",
       "      <th>0</th>\n",
       "      <td>surat rekom petinggi ganyantumin pangkat golong</td>\n",
       "      <td>0.000000</td>\n",
       "    </tr>\n",
       "    <tr>\n",
       "      <th>1</th>\n",
       "      <td>lupa terima total daftar</td>\n",
       "      <td>0.000000</td>\n",
       "    </tr>\n",
       "    <tr>\n",
       "      <th>2</th>\n",
       "      <td>kemarin isi yogyakarta domisili</td>\n",
       "      <td>0.000000</td>\n",
       "    </tr>\n",
       "    <tr>\n",
       "      <th>3</th>\n",
       "      <td>gim nih lupa correct beasiswa lupa kk solusi ap</td>\n",
       "      <td>0.000000</td>\n",
       "    </tr>\n",
       "    <tr>\n",
       "      <th>4</th>\n",
       "      <td>sedih masuk angkat</td>\n",
       "      <td>-33.333333</td>\n",
       "    </tr>\n",
       "    <tr>\n",
       "      <th>...</th>\n",
       "      <td>...</td>\n",
       "      <td>...</td>\n",
       "    </tr>\n",
       "    <tr>\n",
       "      <th>1869</th>\n",
       "      <td>cerita inspiratif msib ngirit bbh turun</td>\n",
       "      <td>16.666667</td>\n",
       "    </tr>\n",
       "    <tr>\n",
       "      <th>1870</th>\n",
       "      <td>sekal masuk feed haha</td>\n",
       "      <td>0.000000</td>\n",
       "    </tr>\n",
       "    <tr>\n",
       "      <th>1871</th>\n",
       "      <td>waww</td>\n",
       "      <td>0.000000</td>\n",
       "    </tr>\n",
       "    <tr>\n",
       "      <th>1872</th>\n",
       "      <td>capernya</td>\n",
       "      <td>0.000000</td>\n",
       "    </tr>\n",
       "    <tr>\n",
       "      <th>1873</th>\n",
       "      <td>informasi bbh cairrr msib</td>\n",
       "      <td>0.000000</td>\n",
       "    </tr>\n",
       "  </tbody>\n",
       "</table>\n",
       "<p>1874 rows × 2 columns</p>\n",
       "</div>"
      ],
      "text/plain": [
       "                                           text_clean  sentiment\n",
       "0     surat rekom petinggi ganyantumin pangkat golong   0.000000\n",
       "1                            lupa terima total daftar   0.000000\n",
       "2                     kemarin isi yogyakarta domisili   0.000000\n",
       "3     gim nih lupa correct beasiswa lupa kk solusi ap   0.000000\n",
       "4                                  sedih masuk angkat -33.333333\n",
       "...                                               ...        ...\n",
       "1869          cerita inspiratif msib ngirit bbh turun  16.666667\n",
       "1870                            sekal masuk feed haha   0.000000\n",
       "1871                                             waww   0.000000\n",
       "1872                                         capernya   0.000000\n",
       "1873                        informasi bbh cairrr msib   0.000000\n",
       "\n",
       "[1874 rows x 2 columns]"
      ]
     },
     "execution_count": 2,
     "metadata": {},
     "output_type": "execute_result"
    }
   ],
   "source": [
    "df = pd.read_csv('text_labelling.csv')\n",
    "df"
   ]
  },
  {
   "cell_type": "markdown",
   "id": "45338591-b207-4442-aeec-3455da67e73e",
   "metadata": {},
   "source": [
    "# Labelling"
   ]
  },
  {
   "cell_type": "markdown",
   "id": "a5634299-2ec5-4d7e-bd46-45af7442c76d",
   "metadata": {},
   "source": [
    "labelling merupakan proses untuk memberi label pada data dengan asumsi -1 adalah negatif , 1 adalah positif dan 0 adalah netral"
   ]
  },
  {
   "cell_type": "code",
   "execution_count": 3,
   "id": "e88684cc-37cf-411f-a0e4-88f8463b4209",
   "metadata": {},
   "outputs": [],
   "source": [
    "def labelling(sentiment):\n",
    "    if sentiment > 0:\n",
    "        return 1\n",
    "    elif sentiment < 0:\n",
    "        return -1\n",
    "    else:\n",
    "        return 0\n",
    "df['sentiment_'] = df.sentiment.apply(labelling)"
   ]
  },
  {
   "cell_type": "code",
   "execution_count": 4,
   "id": "4a783002-e170-4b84-9b5a-f7352e06abbe",
   "metadata": {},
   "outputs": [
    {
     "data": {
      "text/html": [
       "<div>\n",
       "<style scoped>\n",
       "    .dataframe tbody tr th:only-of-type {\n",
       "        vertical-align: middle;\n",
       "    }\n",
       "\n",
       "    .dataframe tbody tr th {\n",
       "        vertical-align: top;\n",
       "    }\n",
       "\n",
       "    .dataframe thead th {\n",
       "        text-align: right;\n",
       "    }\n",
       "</style>\n",
       "<table border=\"1\" class=\"dataframe\">\n",
       "  <thead>\n",
       "    <tr style=\"text-align: right;\">\n",
       "      <th></th>\n",
       "      <th>text_clean</th>\n",
       "      <th>sentiment</th>\n",
       "      <th>sentiment_</th>\n",
       "    </tr>\n",
       "  </thead>\n",
       "  <tbody>\n",
       "    <tr>\n",
       "      <th>0</th>\n",
       "      <td>surat rekom petinggi ganyantumin pangkat golong</td>\n",
       "      <td>0.000000</td>\n",
       "      <td>0</td>\n",
       "    </tr>\n",
       "    <tr>\n",
       "      <th>1</th>\n",
       "      <td>lupa terima total daftar</td>\n",
       "      <td>0.000000</td>\n",
       "      <td>0</td>\n",
       "    </tr>\n",
       "    <tr>\n",
       "      <th>2</th>\n",
       "      <td>kemarin isi yogyakarta domisili</td>\n",
       "      <td>0.000000</td>\n",
       "      <td>0</td>\n",
       "    </tr>\n",
       "    <tr>\n",
       "      <th>3</th>\n",
       "      <td>gim nih lupa correct beasiswa lupa kk solusi ap</td>\n",
       "      <td>0.000000</td>\n",
       "      <td>0</td>\n",
       "    </tr>\n",
       "    <tr>\n",
       "      <th>4</th>\n",
       "      <td>sedih masuk angkat</td>\n",
       "      <td>-33.333333</td>\n",
       "      <td>-1</td>\n",
       "    </tr>\n",
       "    <tr>\n",
       "      <th>...</th>\n",
       "      <td>...</td>\n",
       "      <td>...</td>\n",
       "      <td>...</td>\n",
       "    </tr>\n",
       "    <tr>\n",
       "      <th>1869</th>\n",
       "      <td>cerita inspiratif msib ngirit bbh turun</td>\n",
       "      <td>16.666667</td>\n",
       "      <td>1</td>\n",
       "    </tr>\n",
       "    <tr>\n",
       "      <th>1870</th>\n",
       "      <td>sekal masuk feed haha</td>\n",
       "      <td>0.000000</td>\n",
       "      <td>0</td>\n",
       "    </tr>\n",
       "    <tr>\n",
       "      <th>1871</th>\n",
       "      <td>waww</td>\n",
       "      <td>0.000000</td>\n",
       "      <td>0</td>\n",
       "    </tr>\n",
       "    <tr>\n",
       "      <th>1872</th>\n",
       "      <td>capernya</td>\n",
       "      <td>0.000000</td>\n",
       "      <td>0</td>\n",
       "    </tr>\n",
       "    <tr>\n",
       "      <th>1873</th>\n",
       "      <td>informasi bbh cairrr msib</td>\n",
       "      <td>0.000000</td>\n",
       "      <td>0</td>\n",
       "    </tr>\n",
       "  </tbody>\n",
       "</table>\n",
       "<p>1874 rows × 3 columns</p>\n",
       "</div>"
      ],
      "text/plain": [
       "                                           text_clean  sentiment  sentiment_\n",
       "0     surat rekom petinggi ganyantumin pangkat golong   0.000000           0\n",
       "1                            lupa terima total daftar   0.000000           0\n",
       "2                     kemarin isi yogyakarta domisili   0.000000           0\n",
       "3     gim nih lupa correct beasiswa lupa kk solusi ap   0.000000           0\n",
       "4                                  sedih masuk angkat -33.333333          -1\n",
       "...                                               ...        ...         ...\n",
       "1869          cerita inspiratif msib ngirit bbh turun  16.666667           1\n",
       "1870                            sekal masuk feed haha   0.000000           0\n",
       "1871                                             waww   0.000000           0\n",
       "1872                                         capernya   0.000000           0\n",
       "1873                        informasi bbh cairrr msib   0.000000           0\n",
       "\n",
       "[1874 rows x 3 columns]"
      ]
     },
     "execution_count": 4,
     "metadata": {},
     "output_type": "execute_result"
    }
   ],
   "source": [
    "df"
   ]
  },
  {
   "cell_type": "code",
   "execution_count": 6,
   "id": "0c7ee0b7-c73d-4f51-a143-b3d3ed33aa16",
   "metadata": {},
   "outputs": [
    {
     "name": "stdout",
     "output_type": "stream",
     "text": [
      "406\n",
      "1263\n",
      "205\n"
     ]
    }
   ],
   "source": [
    "print(len(df[df['sentiment_'] == 1]))\n",
    "print(len(df[df['sentiment_'] == 0]))\n",
    "print(len(df[df['sentiment_'] == -1]))"
   ]
  },
  {
   "cell_type": "markdown",
   "id": "fd11193d-d3a9-4c14-a41f-3ad551a2b5a0",
   "metadata": {},
   "source": [
    "## Split data train, dan data test"
   ]
  },
  {
   "cell_type": "code",
   "execution_count": 9,
   "id": "4145237c-46b2-4348-be54-19db18e2b2c0",
   "metadata": {},
   "outputs": [],
   "source": [
    "X = df['text_clean']\n",
    "y = df['sentiment_']\n",
    "X_train,X_test,y_train,y_test = train_test_split(X,y,test_size=0.2)"
   ]
  },
  {
   "cell_type": "code",
   "execution_count": 12,
   "id": "1ce15c37-900a-41cb-9fb7-0023ff7b9dd0",
   "metadata": {},
   "outputs": [],
   "source": [
    "pd.DataFrame({'X_test':X_test.values,'y_test':y_test}).to_csv('X_test.csv',index=False)"
   ]
  },
  {
   "cell_type": "code",
   "execution_count": 6,
   "id": "e9d93270-883f-44d1-aad8-509b3a542ae9",
   "metadata": {},
   "outputs": [],
   "source": [
    "# df.to_csv('labelling_final.csv',index=False)"
   ]
  },
  {
   "cell_type": "code",
   "execution_count": null,
   "id": "8bdadee3-ddc5-4163-ae46-5f47fc9ea30f",
   "metadata": {},
   "outputs": [],
   "source": []
  }
 ],
 "metadata": {
  "kernelspec": {
   "display_name": "Python 3 (ipykernel)",
   "language": "python",
   "name": "python3"
  },
  "language_info": {
   "codemirror_mode": {
    "name": "ipython",
    "version": 3
   },
   "file_extension": ".py",
   "mimetype": "text/x-python",
   "name": "python",
   "nbconvert_exporter": "python",
   "pygments_lexer": "ipython3",
   "version": "3.10.9"
  }
 },
 "nbformat": 4,
 "nbformat_minor": 5
}
