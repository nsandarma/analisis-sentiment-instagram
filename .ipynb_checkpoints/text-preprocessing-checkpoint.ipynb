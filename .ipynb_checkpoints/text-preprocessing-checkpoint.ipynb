{
 "cells": [
  {
   "cell_type": "markdown",
   "id": "18794c0e-cb18-486e-a2fa-af9a71ff891a",
   "metadata": {},
   "source": [
    "# Import Library"
   ]
  },
  {
   "cell_type": "code",
   "execution_count": 32,
   "id": "efa0e74e-0319-4b9b-912a-cd3b16fc75d4",
   "metadata": {},
   "outputs": [],
   "source": [
    "import pandas as pd\n",
    "import numpy as np\n",
    "import string\n",
    "# from Sastrawi.Stemmer.StemmerFactory import StemmerFactory\n",
    "import re\n",
    "from nltk.tokenize import TweetTokenizer"
   ]
  },
  {
   "cell_type": "markdown",
   "id": "b6975ef8-9a1c-4aff-bb97-79a3f06f3539",
   "metadata": {},
   "source": [
    "# Dataset"
   ]
  },
  {
   "cell_type": "code",
   "execution_count": 33,
   "id": "e7d1abe8-025c-4619-8613-6cabf93756e0",
   "metadata": {},
   "outputs": [],
   "source": [
    "df = pd.read_csv('data_final.csv')"
   ]
  },
  {
   "cell_type": "markdown",
   "id": "c65cf2d0-01c0-4d13-916c-d54df7ceb7ec",
   "metadata": {},
   "source": [
    "# Missing Value"
   ]
  },
  {
   "cell_type": "code",
   "execution_count": 34,
   "id": "25d2d0f3-23fa-46bd-8ce4-3c9172ec29e0",
   "metadata": {},
   "outputs": [
    {
     "data": {
      "text/plain": [
       "text    2\n",
       "dtype: int64"
      ]
     },
     "execution_count": 34,
     "metadata": {},
     "output_type": "execute_result"
    }
   ],
   "source": [
    "df.isna().sum()"
   ]
  },
  {
   "cell_type": "code",
   "execution_count": 35,
   "id": "bd779ce6-e884-4cea-b457-01dbaa9ab231",
   "metadata": {},
   "outputs": [
    {
     "data": {
      "text/plain": [
       "text    0\n",
       "dtype: int64"
      ]
     },
     "execution_count": 35,
     "metadata": {},
     "output_type": "execute_result"
    }
   ],
   "source": [
    "df.dropna(inplace=True)\n",
    "df.isna().sum()"
   ]
  },
  {
   "cell_type": "markdown",
   "id": "cf38672f-8db1-4f10-8b61-71d34b45f273",
   "metadata": {},
   "source": [
    "# Deskripsi Data"
   ]
  },
  {
   "cell_type": "code",
   "execution_count": 36,
   "id": "67080a6b-9701-4b4d-8803-4f7edb6be04b",
   "metadata": {},
   "outputs": [
    {
     "data": {
      "text/html": [
       "<div>\n",
       "<style scoped>\n",
       "    .dataframe tbody tr th:only-of-type {\n",
       "        vertical-align: middle;\n",
       "    }\n",
       "\n",
       "    .dataframe tbody tr th {\n",
       "        vertical-align: top;\n",
       "    }\n",
       "\n",
       "    .dataframe thead th {\n",
       "        text-align: right;\n",
       "    }\n",
       "</style>\n",
       "<table border=\"1\" class=\"dataframe\">\n",
       "  <thead>\n",
       "    <tr style=\"text-align: right;\">\n",
       "      <th></th>\n",
       "      <th>text</th>\n",
       "    </tr>\n",
       "  </thead>\n",
       "  <tbody>\n",
       "    <tr>\n",
       "      <th>count</th>\n",
       "      <td>2112</td>\n",
       "    </tr>\n",
       "    <tr>\n",
       "      <th>unique</th>\n",
       "      <td>2073</td>\n",
       "    </tr>\n",
       "    <tr>\n",
       "      <th>top</th>\n",
       "      <td>❤️</td>\n",
       "    </tr>\n",
       "    <tr>\n",
       "      <th>freq</th>\n",
       "      <td>6</td>\n",
       "    </tr>\n",
       "  </tbody>\n",
       "</table>\n",
       "</div>"
      ],
      "text/plain": [
       "        text\n",
       "count   2112\n",
       "unique  2073\n",
       "top       ❤️\n",
       "freq       6"
      ]
     },
     "execution_count": 36,
     "metadata": {},
     "output_type": "execute_result"
    }
   ],
   "source": [
    "df.describe()"
   ]
  },
  {
   "cell_type": "markdown",
   "id": "e297d75d-b42c-4823-b8be-0c5bcfaeb2fe",
   "metadata": {},
   "source": [
    "# Text preprocessing"
   ]
  },
  {
   "cell_type": "markdown",
   "id": "d05b7b60-bc1f-4838-bcde-e6104e74cd24",
   "metadata": {},
   "source": [
    "### Remove punc,url,username,digits,whitespace"
   ]
  },
  {
   "cell_type": "code",
   "execution_count": 37,
   "id": "6ba11ea5-a861-4cd2-9018-617a3f439902",
   "metadata": {},
   "outputs": [
    {
     "data": {
      "text/plain": [
       "['kak kalau dibagian surat rekom, petingginya ganyantumin pangkat dan golongannya boleh ga kak?',\n",
       " '@holyjune00 aku lupa tapi km 5 yang keterima ga sampe 50% dari total pendaftar',\n",
       " '@delviputriii12_ ga apa apa',\n",
       " '@rama_aryo saya kemarin isi di yogyakarta selain domisili',\n",
       " 'kak giman nih kalau lupa correct tidak sedang dapat beasiswa 🥺 sya lupa kk solusinya ap ya',\n",
       " 'sedih rasanya km sudah masuk ke angkatan 6😢',\n",
       " '@delviputriii12_ https://t.me/pendaftarkm6',\n",
       " '@ayyu._.nabila gapapa masukin aja',\n",
       " '@rama_aryo iya kak masalahnya saya selain provinsi domisil itu diisi jauh dari domisili saya nama grup telenya aapa kak',\n",
       " '@yoppietri kak izin bertanya gimana kalo kita ikut organisasi tapi gk punya surat keterangan aktif organisasi, tapi kita ada sertifikat sertifikat pernah jadi panitia dan peserta di organisasi itu, boleh ndk kita taro sertifikat itu kak?']"
      ]
     },
     "execution_count": 37,
     "metadata": {},
     "output_type": "execute_result"
    }
   ],
   "source": [
    "df['text'] = df.text.str.lower()\n",
    "text = list(df['text'].values)\n",
    "text[0:10]"
   ]
  },
  {
   "cell_type": "code",
   "execution_count": 38,
   "id": "16f76858-6840-418c-b75f-694ccdb94edc",
   "metadata": {},
   "outputs": [
    {
     "data": {
      "text/plain": [
       "['kak kalau dibagian surat rekom petingginya ganyantumin pangkat dan golongannya boleh ga kak',\n",
       " 'aku lupa tapi km yang keterima ga sampe dari total pendaftar',\n",
       " 'ga apa apa',\n",
       " 'saya kemarin isi di yogyakarta selain domisili',\n",
       " 'kak giman nih kalau lupa correct tidak sedang dapat beasiswa sya lupa kk solusinya ap ya',\n",
       " 'sedih rasanya km sudah masuk ke angkatan',\n",
       " '',\n",
       " 'nabila gapapa masukin aja',\n",
       " 'iya kak masalahnya saya selain provinsi domisil itu diisi jauh dari domisili saya nama grup telenya aapa kak',\n",
       " 'kak izin bertanya gimana kalo kita ikut organisasi tapi gk punya surat keterangan aktif organisasi tapi kita ada sertifikat sertifikat pernah jadi panitia dan peserta di organisasi itu boleh ndk kita taro sertifikat itu kak']"
      ]
     },
     "execution_count": 38,
     "metadata": {},
     "output_type": "execute_result"
    }
   ],
   "source": [
    "def remove_punc_etc(text):\n",
    "    # remove url\n",
    "    text = [re.sub(r\"http\\S+\",\"\",t) for t in text]\n",
    "    \n",
    "    # remove username\n",
    "    text = [re.sub(\"([@#][A-Za-z0-9_]+)|(\\w+:\\/\\/\\S+)\",\"\", t) for t in text]\n",
    "    \n",
    "    # remove digits\n",
    "    text = [t.translate(str.maketrans('','',string.digits)).strip() for t in text]\n",
    "    \n",
    "    \n",
    "    # remove emoji\n",
    "    emoji_pattern = re.compile(\"[\"\n",
    "                               u\"\\U0001F600-\\U0001F64F\"  # emoticons\n",
    "                               u\"\\U0001F300-\\U0001F5FF\"  # symbols & pictographs\n",
    "                               u\"\\U0001F680-\\U0001F6FF\"  # transport & map symbols\n",
    "                               u\"\\U0001F1E0-\\U0001F1FF\"  # flags (iOS)\n",
    "                               u\"\\U00002500-\\U00002BEF\"  # chinese char\n",
    "                               u\"\\U00002702-\\U000027B0\"\n",
    "                               u\"\\U00002702-\\U000027B0\"\n",
    "                               u\"\\U000024C2-\\U0001F251\"\n",
    "                               u\"\\U0001f926-\\U0001f937\"\n",
    "                               u\"\\U00010000-\\U0010ffff\"\n",
    "                               u\"\\u2640-\\u2642\"\n",
    "                               u\"\\u2600-\\u2B55\"\n",
    "                               u\"\\u200d\"\n",
    "                               u\"\\u23cf\"\n",
    "                               u\"\\u23e9\"\n",
    "                               u\"\\u231a\"\n",
    "                               u\"\\ufe0f\"  # dingbats\n",
    "                               u\"\\u3030\"\n",
    "                               \"]+\", flags=re.UNICODE)\n",
    "    text  = [emoji_pattern.sub(r'', t) for t in text]\n",
    "    text = [t.replace('🥺','') for t in text]\n",
    "    \n",
    "    #remove punc\n",
    "    text = [t.translate(str.maketrans('','',string.punctuation)).strip() for t in text]\n",
    "    \n",
    "    #remove whitespace\n",
    "    text = [t.replace('  ',' ').strip() for t in text]\n",
    "    \n",
    "    \n",
    "    return text\n",
    "text_remove_punc = remove_punc_etc(text)\n",
    "text_remove_punc[0:10]\n"
   ]
  },
  {
   "cell_type": "markdown",
   "id": "5f13f962-3a96-4f01-a5e0-a32ed7a5a9b1",
   "metadata": {},
   "source": [
    "### normalisasi data"
   ]
  },
  {
   "cell_type": "code",
   "execution_count": 39,
   "id": "6388b3de-a5b2-451b-a0a5-168d50a1c72e",
   "metadata": {},
   "outputs": [
    {
     "data": {
      "text/plain": [
       "['kak kalau dibagian surat rekom petingginya ganyantumin pangkat dan golongannya boleh tidak kak',\n",
       " 'saya lupa tapi kamu yang keterima tidak sampai dari total pendaftar',\n",
       " 'tidak apa apa',\n",
       " 'saya kemarin isi di yogyakarta selain domisili',\n",
       " 'kak giman nih kalau lupa correct tidak sedang dapat beasiswa saya lupa kk solusinya ap ya',\n",
       " 'sedih rasanya kamu sudah masuk ke angkatan',\n",
       " '',\n",
       " 'nabila tidak apa-apa masukin saja',\n",
       " 'iya kak masalahnya saya selain provinsi domisil itu diisi jauh dari domisili saya nama grup telenya aapa kak',\n",
       " 'kak izin bertanya bagaimana kalau kita ikut organisasi tapi tidak punya surat keterangan aktif organisasi tapi kita ada sertifikat sertifikat pernah jadi panitia dan peserta di organisasi itu boleh tidak kita taro sertifikat itu kak']"
      ]
     },
     "execution_count": 39,
     "metadata": {},
     "output_type": "execute_result"
    }
   ],
   "source": [
    "norm = pd.read_csv('normalisasi_kata.csv')\n",
    "def normalisasi(text):\n",
    "    text = [t.split() for t in text]\n",
    "    text_ = []\n",
    "\n",
    "    for t in text:\n",
    "        c = []\n",
    "        for j in t:\n",
    "            if j in norm['singkat'].values:\n",
    "                hasil = ''.join(norm[norm['singkat'] == j]['hasil'])\n",
    "                c.append(hasil)\n",
    "            else:\n",
    "                c.append(j)\n",
    "        text_.append(c)\n",
    "    return [' '.join(t) for t in text_]\n",
    "text_norm = normalisasi(text_remove_punc)\n",
    "text_norm[0:10]"
   ]
  },
  {
   "cell_type": "code",
   "execution_count": 41,
   "id": "141ce7e5-c421-4b03-9d1b-805705a35183",
   "metadata": {},
   "outputs": [
    {
     "data": {
      "text/plain": [
       "['kak kalau dibagian surat rekom petingginya ganyantumin pangkat dan golongannya boleh tidak kak',\n",
       " 'saya lupa tapi kamu yang keterima tidak sampai dari total pendaftar',\n",
       " 'tidak apa apa',\n",
       " 'saya kemarin isi di yogyakarta selain domisili',\n",
       " 'kak giman nih kalau lupa correct tidak sedang dapat beasiswa saya lupa kk solusinya ap ya',\n",
       " 'sedih rasanya kamu sudah masuk ke angkatan',\n",
       " '',\n",
       " 'nabila tidak apa-apa masukin saja',\n",
       " 'iya kak masalahnya saya selain provinsi domisil itu diisi jauh dari domisili saya nama grup telenya aapa kak',\n",
       " 'kak izin bertanya bagaimana kalau kita ikut organisasi tapi tidak punya surat keterangan aktif organisasi tapi kita ada sertifikat sertifikat pernah jadi panitia dan peserta di organisasi itu boleh tidak kita taro sertifikat itu kak']"
      ]
     },
     "execution_count": 41,
     "metadata": {},
     "output_type": "execute_result"
    }
   ],
   "source": [
    "stopwords_idn = pd.read_csv('stopwords_idn.csv')\n",
    "stopwords_ = ['up','wkwk','a',\"bismillah\"]\n",
    "def stopwords(text):\n",
    "    text = [t.split() for t in text]\n",
    "    text_ = []\n",
    "    for t in text:\n",
    "        c = []\n",
    "        for j in t:\n",
    "            if j not in stopwords_:\n",
    "                c.append(j)\n",
    "        text_.append(c)\n",
    "    return [' '.join(t) for t in text_]\n",
    "text_stop = stopwords(text_norm)\n",
    "text_stop[0:10]"
   ]
  },
  {
   "cell_type": "markdown",
   "id": "95cdd5cc-68ed-42a0-8068-aebde2137b5f",
   "metadata": {},
   "source": [
    "# Tahap Akhir"
   ]
  },
  {
   "cell_type": "code",
   "execution_count": 42,
   "id": "de245494-961f-42ae-afd7-a50d5c8ce82a",
   "metadata": {},
   "outputs": [
    {
     "data": {
      "text/html": [
       "<div>\n",
       "<style scoped>\n",
       "    .dataframe tbody tr th:only-of-type {\n",
       "        vertical-align: middle;\n",
       "    }\n",
       "\n",
       "    .dataframe tbody tr th {\n",
       "        vertical-align: top;\n",
       "    }\n",
       "\n",
       "    .dataframe thead th {\n",
       "        text-align: right;\n",
       "    }\n",
       "</style>\n",
       "<table border=\"1\" class=\"dataframe\">\n",
       "  <thead>\n",
       "    <tr style=\"text-align: right;\">\n",
       "      <th></th>\n",
       "      <th>text_kotor</th>\n",
       "      <th>text_remove_punc</th>\n",
       "      <th>text_norm</th>\n",
       "      <th>text_stop</th>\n",
       "    </tr>\n",
       "  </thead>\n",
       "  <tbody>\n",
       "    <tr>\n",
       "      <th>0</th>\n",
       "      <td>kak kalau dibagian surat rekom, petingginya ga...</td>\n",
       "      <td>kak kalau dibagian surat rekom petingginya gan...</td>\n",
       "      <td>kak kalau dibagian surat rekom petingginya gan...</td>\n",
       "      <td>kak kalau dibagian surat rekom petingginya gan...</td>\n",
       "    </tr>\n",
       "    <tr>\n",
       "      <th>1</th>\n",
       "      <td>@holyjune00 aku lupa tapi km 5 yang keterima g...</td>\n",
       "      <td>aku lupa tapi km yang keterima ga sampe dari t...</td>\n",
       "      <td>saya lupa tapi kamu yang keterima tidak sampai...</td>\n",
       "      <td>saya lupa tapi kamu yang keterima tidak sampai...</td>\n",
       "    </tr>\n",
       "    <tr>\n",
       "      <th>2</th>\n",
       "      <td>@delviputriii12_ ga apa apa</td>\n",
       "      <td>ga apa apa</td>\n",
       "      <td>tidak apa apa</td>\n",
       "      <td>tidak apa apa</td>\n",
       "    </tr>\n",
       "    <tr>\n",
       "      <th>3</th>\n",
       "      <td>@rama_aryo saya kemarin isi di yogyakarta sela...</td>\n",
       "      <td>saya kemarin isi di yogyakarta selain domisili</td>\n",
       "      <td>saya kemarin isi di yogyakarta selain domisili</td>\n",
       "      <td>saya kemarin isi di yogyakarta selain domisili</td>\n",
       "    </tr>\n",
       "    <tr>\n",
       "      <th>4</th>\n",
       "      <td>kak giman nih kalau lupa correct tidak sedang ...</td>\n",
       "      <td>kak giman nih kalau lupa correct tidak sedang ...</td>\n",
       "      <td>kak giman nih kalau lupa correct tidak sedang ...</td>\n",
       "      <td>kak giman nih kalau lupa correct tidak sedang ...</td>\n",
       "    </tr>\n",
       "    <tr>\n",
       "      <th>...</th>\n",
       "      <td>...</td>\n",
       "      <td>...</td>\n",
       "      <td>...</td>\n",
       "      <td>...</td>\n",
       "    </tr>\n",
       "    <tr>\n",
       "      <th>2107</th>\n",
       "      <td>cerita inspiratif dari saya peserta msib 4: ng...</td>\n",
       "      <td>cerita inspiratif dari saya peserta msib ngiri...</td>\n",
       "      <td>cerita inspiratif dari saya peserta msib ngiri...</td>\n",
       "      <td>cerita inspiratif dari saya peserta msib ngiri...</td>\n",
       "    </tr>\n",
       "    <tr>\n",
       "      <th>2108</th>\n",
       "      <td>min, sesekali saia masuk ke feed ini haha 😂</td>\n",
       "      <td>min sesekali saia masuk ke feed ini haha</td>\n",
       "      <td>min sesekali saya masuk ke feed ini haha</td>\n",
       "      <td>min sesekali saya masuk ke feed ini haha</td>\n",
       "    </tr>\n",
       "    <tr>\n",
       "      <th>2109</th>\n",
       "      <td>waww ada kamu @fathiyyahazz</td>\n",
       "      <td>waww ada kamu</td>\n",
       "      <td>waww ada kamu</td>\n",
       "      <td>waww ada kamu</td>\n",
       "    </tr>\n",
       "    <tr>\n",
       "      <th>2110</th>\n",
       "      <td>bisa aja capernya</td>\n",
       "      <td>bisa aja capernya</td>\n",
       "      <td>bisa saja capernya</td>\n",
       "      <td>bisa saja capernya</td>\n",
       "    </tr>\n",
       "    <tr>\n",
       "      <th>2111</th>\n",
       "      <td>info bbh🔥 km udah cairrr msib kapan??</td>\n",
       "      <td>info bbh km udah cairrr msib kapan</td>\n",
       "      <td>informasi bbh kamu sudah cairrr msib kapan</td>\n",
       "      <td>informasi bbh kamu sudah cairrr msib kapan</td>\n",
       "    </tr>\n",
       "  </tbody>\n",
       "</table>\n",
       "<p>2112 rows × 4 columns</p>\n",
       "</div>"
      ],
      "text/plain": [
       "                                             text_kotor  \\\n",
       "0     kak kalau dibagian surat rekom, petingginya ga...   \n",
       "1     @holyjune00 aku lupa tapi km 5 yang keterima g...   \n",
       "2                           @delviputriii12_ ga apa apa   \n",
       "3     @rama_aryo saya kemarin isi di yogyakarta sela...   \n",
       "4     kak giman nih kalau lupa correct tidak sedang ...   \n",
       "...                                                 ...   \n",
       "2107  cerita inspiratif dari saya peserta msib 4: ng...   \n",
       "2108        min, sesekali saia masuk ke feed ini haha 😂   \n",
       "2109                        waww ada kamu @fathiyyahazz   \n",
       "2110                                  bisa aja capernya   \n",
       "2111              info bbh🔥 km udah cairrr msib kapan??   \n",
       "\n",
       "                                       text_remove_punc  \\\n",
       "0     kak kalau dibagian surat rekom petingginya gan...   \n",
       "1     aku lupa tapi km yang keterima ga sampe dari t...   \n",
       "2                                            ga apa apa   \n",
       "3        saya kemarin isi di yogyakarta selain domisili   \n",
       "4     kak giman nih kalau lupa correct tidak sedang ...   \n",
       "...                                                 ...   \n",
       "2107  cerita inspiratif dari saya peserta msib ngiri...   \n",
       "2108           min sesekali saia masuk ke feed ini haha   \n",
       "2109                                      waww ada kamu   \n",
       "2110                                  bisa aja capernya   \n",
       "2111                 info bbh km udah cairrr msib kapan   \n",
       "\n",
       "                                              text_norm  \\\n",
       "0     kak kalau dibagian surat rekom petingginya gan...   \n",
       "1     saya lupa tapi kamu yang keterima tidak sampai...   \n",
       "2                                         tidak apa apa   \n",
       "3        saya kemarin isi di yogyakarta selain domisili   \n",
       "4     kak giman nih kalau lupa correct tidak sedang ...   \n",
       "...                                                 ...   \n",
       "2107  cerita inspiratif dari saya peserta msib ngiri...   \n",
       "2108           min sesekali saya masuk ke feed ini haha   \n",
       "2109                                      waww ada kamu   \n",
       "2110                                 bisa saja capernya   \n",
       "2111         informasi bbh kamu sudah cairrr msib kapan   \n",
       "\n",
       "                                              text_stop  \n",
       "0     kak kalau dibagian surat rekom petingginya gan...  \n",
       "1     saya lupa tapi kamu yang keterima tidak sampai...  \n",
       "2                                         tidak apa apa  \n",
       "3        saya kemarin isi di yogyakarta selain domisili  \n",
       "4     kak giman nih kalau lupa correct tidak sedang ...  \n",
       "...                                                 ...  \n",
       "2107  cerita inspiratif dari saya peserta msib ngiri...  \n",
       "2108           min sesekali saya masuk ke feed ini haha  \n",
       "2109                                      waww ada kamu  \n",
       "2110                                 bisa saja capernya  \n",
       "2111         informasi bbh kamu sudah cairrr msib kapan  \n",
       "\n",
       "[2112 rows x 4 columns]"
      ]
     },
     "execution_count": 42,
     "metadata": {},
     "output_type": "execute_result"
    }
   ],
   "source": [
    "df_ = pd.DataFrame({'text_kotor':text,'text_remove_punc':text_remove_punc,'text_norm':text_norm,'text_stop':text_stop})\n",
    "# df_ = pd.DataFrame({'text_kotor':text,'text_remove_punc':text_remove_punc,'text_norm':text_norm})\n",
    "\n",
    "df_"
   ]
  },
  {
   "cell_type": "code",
   "execution_count": 43,
   "id": "89b8af03-b021-4034-9b7e-e8a641dbee95",
   "metadata": {},
   "outputs": [
    {
     "data": {
      "text/plain": [
       "1923"
      ]
     },
     "execution_count": 43,
     "metadata": {},
     "output_type": "execute_result"
    }
   ],
   "source": [
    "# while(\"\" in text_stop):\n",
    "while(\"\" in text_stop):\n",
    "    text_stop.remove(\"\")\n",
    "len(text_stop)"
   ]
  },
  {
   "cell_type": "code",
   "execution_count": 44,
   "id": "13b9a3a1-3dfe-41ed-8152-2e11c96f65b8",
   "metadata": {},
   "outputs": [],
   "source": [
    "df_clean = pd.DataFrame({'text':text_stop})"
   ]
  },
  {
   "cell_type": "code",
   "execution_count": 45,
   "id": "85dd9eab-48a9-4b64-a14b-72878a2c9a76",
   "metadata": {},
   "outputs": [
    {
     "data": {
      "text/html": [
       "<div>\n",
       "<style scoped>\n",
       "    .dataframe tbody tr th:only-of-type {\n",
       "        vertical-align: middle;\n",
       "    }\n",
       "\n",
       "    .dataframe tbody tr th {\n",
       "        vertical-align: top;\n",
       "    }\n",
       "\n",
       "    .dataframe thead th {\n",
       "        text-align: right;\n",
       "    }\n",
       "</style>\n",
       "<table border=\"1\" class=\"dataframe\">\n",
       "  <thead>\n",
       "    <tr style=\"text-align: right;\">\n",
       "      <th></th>\n",
       "      <th>text</th>\n",
       "    </tr>\n",
       "  </thead>\n",
       "  <tbody>\n",
       "    <tr>\n",
       "      <th>count</th>\n",
       "      <td>1923</td>\n",
       "    </tr>\n",
       "    <tr>\n",
       "      <th>unique</th>\n",
       "      <td>1858</td>\n",
       "    </tr>\n",
       "    <tr>\n",
       "      <th>top</th>\n",
       "      <td>bbh</td>\n",
       "    </tr>\n",
       "    <tr>\n",
       "      <th>freq</th>\n",
       "      <td>5</td>\n",
       "    </tr>\n",
       "  </tbody>\n",
       "</table>\n",
       "</div>"
      ],
      "text/plain": [
       "        text\n",
       "count   1923\n",
       "unique  1858\n",
       "top      bbh\n",
       "freq       5"
      ]
     },
     "execution_count": 45,
     "metadata": {},
     "output_type": "execute_result"
    }
   ],
   "source": [
    "df_clean.describe()"
   ]
  },
  {
   "cell_type": "code",
   "execution_count": 14,
   "id": "ec2952ff-8628-4ec8-83d0-94835afbf1aa",
   "metadata": {},
   "outputs": [],
   "source": [
    "# df_clean.to_csv('data_bersih.csv',index=False)"
   ]
  },
  {
   "cell_type": "code",
   "execution_count": 18,
   "id": "9235fe5a-c7f4-4006-906e-da35a92783a1",
   "metadata": {},
   "outputs": [],
   "source": [
    "df_clean.to_csv('df_clean.csv',index=False)"
   ]
  },
  {
   "cell_type": "code",
   "execution_count": null,
   "id": "fd02ba30-4364-48d5-94ba-9e17f379b160",
   "metadata": {},
   "outputs": [],
   "source": []
  }
 ],
 "metadata": {
  "kernelspec": {
   "display_name": "Python 3 (ipykernel)",
   "language": "python",
   "name": "python3"
  },
  "language_info": {
   "codemirror_mode": {
    "name": "ipython",
    "version": 3
   },
   "file_extension": ".py",
   "mimetype": "text/x-python",
   "name": "python",
   "nbconvert_exporter": "python",
   "pygments_lexer": "ipython3",
   "version": "3.10.9"
  }
 },
 "nbformat": 4,
 "nbformat_minor": 5
}
