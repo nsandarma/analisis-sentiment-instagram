{
 "cells": [
  {
   "cell_type": "markdown",
   "id": "2aaedd49-bb78-421f-b9d2-ef1f723d6124",
   "metadata": {},
   "source": [
    "# Import Library"
   ]
  },
  {
   "cell_type": "code",
   "execution_count": 1,
   "id": "886d7d9b-ebc9-4574-8a04-09058cd517d4",
   "metadata": {},
   "outputs": [],
   "source": [
    "import pandas as pd\n",
    "from instagrapi import Client"
   ]
  },
  {
   "cell_type": "markdown",
   "id": "b94eb569-e7ff-42a3-a9b1-6335b8cf633a",
   "metadata": {},
   "source": [
    "# Login Instagram"
   ]
  },
  {
   "cell_type": "code",
   "execution_count": 2,
   "id": "e017dd31-499c-403e-a314-cd9d2206b7a8",
   "metadata": {},
   "outputs": [
    {
     "data": {
      "text/plain": [
       "True"
      ]
     },
     "execution_count": 2,
     "metadata": {},
     "output_type": "execute_result"
    }
   ],
   "source": [
    "cl = Client()\n",
    "username = \"leaa6810\"\n",
    "password = \"lia12345\"\n",
    "cl.login(username,password)"
   ]
  },
  {
   "cell_type": "markdown",
   "id": "0abd5585-764c-42e7-8b18-df49da239811",
   "metadata": {},
   "source": [
    "# Get postingan"
   ]
  },
  {
   "cell_type": "code",
   "execution_count": 15,
   "id": "faaf327e-5dd8-4b37-b99f-0e57fde133fa",
   "metadata": {},
   "outputs": [],
   "source": [
    "media = cl.media_pk_from_url('https://www.instagram.com/p/CqfJVzzLQS8/')"
   ]
  },
  {
   "cell_type": "markdown",
   "id": "fac6c807-ff54-4219-ad13-62cf4720d00b",
   "metadata": {},
   "source": [
    "# Get Komentar yang didalam Postingan"
   ]
  },
  {
   "cell_type": "markdown",
   "id": "733dc97a-8bba-49d7-bb80-98d4876454dd",
   "metadata": {},
   "source": [
    "komentar yang bisa diambil di limit sekitar 100 per postingan"
   ]
  },
  {
   "cell_type": "code",
   "execution_count": 17,
   "id": "3cdf16c4-40f7-403a-9acd-808e071882eb",
   "metadata": {},
   "outputs": [],
   "source": [
    "com = cl.media_comments(media,amount=0)"
   ]
  },
  {
   "cell_type": "code",
   "execution_count": 11,
   "id": "69365ff4-9fee-46e6-885e-2d5b9d63cce9",
   "metadata": {},
   "outputs": [],
   "source": [
    "comment_arr = []\n",
    "for c in com:\n",
    "    comment_arr.append(c.text)\n",
    "    # print(c.text)"
   ]
  },
  {
   "cell_type": "code",
   "execution_count": 19,
   "id": "0be092e3-9c49-4942-ad83-60dd2514ec11",
   "metadata": {},
   "outputs": [
    {
     "data": {
      "text/html": [
       "<div>\n",
       "<style scoped>\n",
       "    .dataframe tbody tr th:only-of-type {\n",
       "        vertical-align: middle;\n",
       "    }\n",
       "\n",
       "    .dataframe tbody tr th {\n",
       "        vertical-align: top;\n",
       "    }\n",
       "\n",
       "    .dataframe thead th {\n",
       "        text-align: right;\n",
       "    }\n",
       "</style>\n",
       "<table border=\"1\" class=\"dataframe\">\n",
       "  <thead>\n",
       "    <tr style=\"text-align: right;\">\n",
       "      <th></th>\n",
       "      <th>text</th>\n",
       "    </tr>\n",
       "  </thead>\n",
       "  <tbody>\n",
       "    <tr>\n",
       "      <th>0</th>\n",
       "      <td>kak kalau dibagian surat rekom, petingginya ga...</td>\n",
       "    </tr>\n",
       "    <tr>\n",
       "      <th>1</th>\n",
       "      <td>@holyjune00 aku lupa tapi KM 5 yang keterima g...</td>\n",
       "    </tr>\n",
       "    <tr>\n",
       "      <th>2</th>\n",
       "      <td>@delviputriii12_ ga apa apa</td>\n",
       "    </tr>\n",
       "    <tr>\n",
       "      <th>3</th>\n",
       "      <td>@rama_aryo saya kemarin isi di Yogyakarta sela...</td>\n",
       "    </tr>\n",
       "    <tr>\n",
       "      <th>4</th>\n",
       "      <td>Kak Giman nih kalau lupa correct tidak sedang ...</td>\n",
       "    </tr>\n",
       "    <tr>\n",
       "      <th>...</th>\n",
       "      <td>...</td>\n",
       "    </tr>\n",
       "    <tr>\n",
       "      <th>2023</th>\n",
       "      <td>BBH owh BBH</td>\n",
       "    </tr>\n",
       "    <tr>\n",
       "      <th>2024</th>\n",
       "      <td>Awal Mei keluarnya😢</td>\n",
       "    </tr>\n",
       "    <tr>\n",
       "      <th>2025</th>\n",
       "      <td>🤍🕊️</td>\n",
       "    </tr>\n",
       "    <tr>\n",
       "      <th>2026</th>\n",
       "      <td>makasih min, sekarang bbhnya mana😍</td>\n",
       "    </tr>\n",
       "    <tr>\n",
       "      <th>2027</th>\n",
       "      <td>❤️</td>\n",
       "    </tr>\n",
       "  </tbody>\n",
       "</table>\n",
       "<p>2028 rows × 1 columns</p>\n",
       "</div>"
      ],
      "text/plain": [
       "                                                   text\n",
       "0     kak kalau dibagian surat rekom, petingginya ga...\n",
       "1     @holyjune00 aku lupa tapi KM 5 yang keterima g...\n",
       "2                           @delviputriii12_ ga apa apa\n",
       "3     @rama_aryo saya kemarin isi di Yogyakarta sela...\n",
       "4     Kak Giman nih kalau lupa correct tidak sedang ...\n",
       "...                                                 ...\n",
       "2023                                        BBH owh BBH\n",
       "2024                                Awal Mei keluarnya😢\n",
       "2025                                                🤍🕊️\n",
       "2026                 makasih min, sekarang bbhnya mana😍\n",
       "2027                                                 ❤️\n",
       "\n",
       "[2028 rows x 1 columns]"
      ]
     },
     "execution_count": 19,
     "metadata": {},
     "output_type": "execute_result"
    }
   ],
   "source": [
    "df = pd.DataFrame({'comment':comment_arr})"
   ]
  }
 ],
 "metadata": {
  "kernelspec": {
   "display_name": "Python 3 (ipykernel)",
   "language": "python",
   "name": "python3"
  },
  "language_info": {
   "codemirror_mode": {
    "name": "ipython",
    "version": 3
   },
   "file_extension": ".py",
   "mimetype": "text/x-python",
   "name": "python",
   "nbconvert_exporter": "python",
   "pygments_lexer": "ipython3",
   "version": "3.10.9"
  }
 },
 "nbformat": 4,
 "nbformat_minor": 5
}
